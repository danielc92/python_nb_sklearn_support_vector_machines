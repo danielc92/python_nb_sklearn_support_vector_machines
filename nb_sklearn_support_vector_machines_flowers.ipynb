{
 "cells": [
  {
   "cell_type": "markdown",
   "metadata": {},
   "source": [
    "## Import Modules"
   ]
  },
  {
   "cell_type": "code",
   "execution_count": 1,
   "metadata": {},
   "outputs": [
    {
     "name": "stderr",
     "output_type": "stream",
     "text": [
      "/Library/Frameworks/Python.framework/Versions/3.6/lib/python3.6/site-packages/sklearn/cross_validation.py:41: DeprecationWarning: This module was deprecated in version 0.18 in favor of the model_selection module into which all the refactored classes and functions are moved. Also note that the interface of the new CV iterators are different from that of this module. This module will be removed in 0.20.\n",
      "  \"This module will be removed in 0.20.\", DeprecationWarning)\n",
      "/Library/Frameworks/Python.framework/Versions/3.6/lib/python3.6/site-packages/sklearn/grid_search.py:42: DeprecationWarning: This module was deprecated in version 0.18 in favor of the model_selection module into which all the refactored classes and functions are moved. This module will be removed in 0.20.\n",
      "  DeprecationWarning)\n"
     ]
    }
   ],
   "source": [
    "import os\n",
    "import shutil\n",
    "from datetime import datetime\n",
    "\n",
    "from PIL import Image\n",
    "import pandas\n",
    "import numpy\n",
    "\n",
    "import matplotlib.pyplot as plt\n",
    "import seaborn\n",
    "\n",
    "\n",
    "from sklearn.cross_validation import train_test_split\n",
    "from sklearn.grid_search import GridSearchCV\n",
    "from sklearn.metrics import accuracy_score\n",
    "from sklearn.metrics import confusion_matrix\n",
    "from sklearn.metrics import classification_report"
   ]
  },
  {
   "cell_type": "markdown",
   "metadata": {},
   "source": [
    "## Data Preparation Part 1 (creating the csv)"
   ]
  },
  {
   "cell_type": "markdown",
   "metadata": {},
   "source": [
    "### numpy.dot example"
   ]
  },
  {
   "cell_type": "code",
   "execution_count": null,
   "metadata": {},
   "outputs": [],
   "source": [
    "numpy.dot((100,100,100), [0.5, 0.2, 0.1])"
   ]
  },
  {
   "cell_type": "code",
   "execution_count": null,
   "metadata": {},
   "outputs": [],
   "source": [
    "seaborn.set(rc = {\"figure.figsize\":(12,10)})"
   ]
  },
  {
   "cell_type": "markdown",
   "metadata": {},
   "source": [
    "### Rename all images with flower type "
   ]
  },
  {
   "cell_type": "markdown",
   "metadata": {},
   "source": [
    "```python\n",
    "directories = [\"/users/danielcorcoran/desktop/flowers/daisy/\",\n",
    "              \"/users/danielcorcoran/desktop/flowers/tulip/\",\n",
    "              \"/users/danielcorcoran/desktop/flowers/sunflower/\",\n",
    "              \"/users/danielcorcoran/desktop/flowers/dandelion/\",\n",
    "              \"/users/danielcorcoran/desktop/flowers/rose/\"]\n",
    "```"
   ]
  },
  {
   "cell_type": "markdown",
   "metadata": {},
   "source": [
    "```python \n",
    "\n",
    "for directory in directories:\n",
    "\n",
    "    flower_type = directory.split(\"/\")[-2]\n",
    "    \n",
    "    for filename in os.listdir(directory):\n",
    "        \n",
    "        print(flower_type, filename)\n",
    "        os.rename(directory+filename, directory+flower_type +\"_\" + filename)\n",
    "        \n",
    "```"
   ]
  },
  {
   "cell_type": "markdown",
   "metadata": {},
   "source": [
    "### Create Dataframe containing all flower image data"
   ]
  },
  {
   "cell_type": "code",
   "execution_count": null,
   "metadata": {},
   "outputs": [],
   "source": [
    "directory_path = \"/users/danielcorcoran/desktop/flowers/all_flowers/\""
   ]
  },
  {
   "cell_type": "code",
   "execution_count": null,
   "metadata": {},
   "outputs": [],
   "source": [
    "dataset = pandas.DataFrame()"
   ]
  },
  {
   "cell_type": "code",
   "execution_count": null,
   "metadata": {},
   "outputs": [],
   "source": [
    "counter = 0\n",
    "\n",
    "for filename in os.listdir(directory_path):\n",
    "    \n",
    "    filepath = directory_path + filename\n",
    "    if \".jpg\" in filename:\n",
    "        image = Image.open(filepath)\n",
    "        size = image.size\n",
    "        width = int(image.size[0])\n",
    "        height = int(image.size[1])\n",
    "        size = str(width) + \"x\" + str(height)\n",
    "        category = filename.split(\"_\")[0]\n",
    "        \n",
    "        dataset.loc[counter, \"file_name\"] = filename\n",
    "        dataset.loc[counter, \"file_path\"] = directory_path\n",
    "        dataset.loc[counter, \"width\"] = width\n",
    "        dataset.loc[counter, \"height\"] = height\n",
    "        dataset.loc[counter, \"size\"] = size\n",
    "        dataset.loc[counter, \"flower_type\"] = category\n",
    "        \n",
    "        counter = counter + 1"
   ]
  },
  {
   "cell_type": "code",
   "execution_count": null,
   "metadata": {},
   "outputs": [],
   "source": [
    "grouped = dataset.groupby(\"size\").count()\n",
    "grouped.sort_values(by = \"file_name\", ascending = False).head()"
   ]
  },
  {
   "cell_type": "markdown",
   "metadata": {},
   "source": [
    "### Create subset containing only 320x240 images"
   ]
  },
  {
   "cell_type": "code",
   "execution_count": null,
   "metadata": {},
   "outputs": [],
   "source": [
    "data320x240 = dataset[dataset[\"size\"] == \"320x240\"]"
   ]
  },
  {
   "cell_type": "markdown",
   "metadata": {},
   "source": [
    "### Reset index"
   ]
  },
  {
   "cell_type": "code",
   "execution_count": null,
   "metadata": {},
   "outputs": [],
   "source": [
    "data320x240.reset_index(drop = True, inplace = True)"
   ]
  },
  {
   "cell_type": "code",
   "execution_count": null,
   "metadata": {},
   "outputs": [],
   "source": [
    "data320x240.head(3)"
   ]
  },
  {
   "cell_type": "code",
   "execution_count": null,
   "metadata": {},
   "outputs": [],
   "source": [
    "data320x240[\"full_path\"] = data320x240[\"file_path\"] + data320x240[\"file_name\"]"
   ]
  },
  {
   "cell_type": "code",
   "execution_count": null,
   "metadata": {},
   "outputs": [],
   "source": [
    "data320x240.head(3)"
   ]
  },
  {
   "cell_type": "markdown",
   "metadata": {},
   "source": [
    "## Data Preparation Part 2 (for model)"
   ]
  },
  {
   "cell_type": "markdown",
   "metadata": {},
   "source": [
    "### Feature engineering\n",
    "Collect RGB features "
   ]
  },
  {
   "cell_type": "markdown",
   "metadata": {},
   "source": [
    "### A function used to map greyscales to pixel tuples returned by Image.getdata"
   ]
  },
  {
   "cell_type": "code",
   "execution_count": null,
   "metadata": {},
   "outputs": [],
   "source": [
    "def get_greyscale(pixel_tuple):\n",
    "    \n",
    "    # multiplier for grey scale value obtained from link below:\n",
    "    # https://stackoverflow.com/questions/12201577/how-can-i-convert-an-rgb-image-into-grayscale-in-python\n",
    "    \n",
    "    grey_scale_value = numpy.dot(pixel_tuple, [0.299, 0.587, 0.114])\n",
    "    \n",
    "    return grey_scale_value"
   ]
  },
  {
   "cell_type": "markdown",
   "metadata": {},
   "source": [
    "### A function to generate a PIL.Image object and generate list of greyscale values given a path to an image"
   ]
  },
  {
   "cell_type": "code",
   "execution_count": null,
   "metadata": {},
   "outputs": [],
   "source": [
    "def get_image_data(path):\n",
    "    \n",
    "    image = Image.open(path)\n",
    "    pixels = list(image.getdata())\n",
    "    \n",
    "    grey_scale_value = list(map(get_greyscale, pixels))\n",
    "\n",
    "    return grey_scale_value"
   ]
  },
  {
   "cell_type": "code",
   "execution_count": null,
   "metadata": {},
   "outputs": [],
   "source": [
    "start = datetime.now()\n",
    "\n",
    "data320x240[\"image_data_mapped\"] = data320x240[\"full_path\"].map(get_image_data)\n",
    "\n",
    "print(\"Finished in: {}\".format(datetime.now() - start))"
   ]
  },
  {
   "cell_type": "code",
   "execution_count": null,
   "metadata": {},
   "outputs": [],
   "source": [
    "data320x240.head()"
   ]
  },
  {
   "cell_type": "markdown",
   "metadata": {},
   "source": [
    "### Create new dataframe splitting image_data_mapped lists into multiple columns"
   ]
  },
  {
   "cell_type": "code",
   "execution_count": null,
   "metadata": {},
   "outputs": [],
   "source": [
    "expanded_data = data320x240[\"image_data_mapped\"].apply(pandas.Series)"
   ]
  },
  {
   "cell_type": "code",
   "execution_count": null,
   "metadata": {},
   "outputs": [],
   "source": [
    "expanded_data.head()"
   ]
  },
  {
   "cell_type": "markdown",
   "metadata": {},
   "source": [
    "### Join split data onto original dataframe"
   ]
  },
  {
   "cell_type": "code",
   "execution_count": null,
   "metadata": {},
   "outputs": [],
   "source": [
    "full_data = pandas.concat([data320x240, expanded_data], axis = 1)"
   ]
  },
  {
   "cell_type": "code",
   "execution_count": null,
   "metadata": {},
   "outputs": [],
   "source": [
    "full_data.head()"
   ]
  },
  {
   "cell_type": "code",
   "execution_count": null,
   "metadata": {},
   "outputs": [],
   "source": [
    "full_data.to_csv(\"/users/danielcorcoran/desktop/flowers/flowers_320x240_data_final.csv\", \n",
    "                 index_label= \"row_index\")"
   ]
  },
  {
   "cell_type": "markdown",
   "metadata": {},
   "source": [
    "## Read in data "
   ]
  },
  {
   "cell_type": "code",
   "execution_count": 5,
   "metadata": {},
   "outputs": [],
   "source": [
    "data = pandas.read_csv(\"/users/danielcorcoran/desktop/flowers/flowers_320x240_data_final.csv\")"
   ]
  },
  {
   "cell_type": "code",
   "execution_count": 6,
   "metadata": {},
   "outputs": [
    {
     "data": {
      "text/html": [
       "<div>\n",
       "<style scoped>\n",
       "    .dataframe tbody tr th:only-of-type {\n",
       "        vertical-align: middle;\n",
       "    }\n",
       "\n",
       "    .dataframe tbody tr th {\n",
       "        vertical-align: top;\n",
       "    }\n",
       "\n",
       "    .dataframe thead th {\n",
       "        text-align: right;\n",
       "    }\n",
       "</style>\n",
       "<table border=\"1\" class=\"dataframe\">\n",
       "  <thead>\n",
       "    <tr style=\"text-align: right;\">\n",
       "      <th></th>\n",
       "      <th>row_index</th>\n",
       "      <th>file_name</th>\n",
       "      <th>file_path</th>\n",
       "      <th>width</th>\n",
       "      <th>height</th>\n",
       "      <th>size</th>\n",
       "      <th>flower_type</th>\n",
       "      <th>full_path</th>\n",
       "      <th>image_data_mapped</th>\n",
       "      <th>0</th>\n",
       "      <th>...</th>\n",
       "      <th>76790</th>\n",
       "      <th>76791</th>\n",
       "      <th>76792</th>\n",
       "      <th>76793</th>\n",
       "      <th>76794</th>\n",
       "      <th>76795</th>\n",
       "      <th>76796</th>\n",
       "      <th>76797</th>\n",
       "      <th>76798</th>\n",
       "      <th>76799</th>\n",
       "    </tr>\n",
       "  </thead>\n",
       "  <tbody>\n",
       "    <tr>\n",
       "      <th>0</th>\n",
       "      <td>0</td>\n",
       "      <td>daisy_144099102_bf63a41e4f_n.jpg</td>\n",
       "      <td>/users/danielcorcoran/desktop/flowers/all_flow...</td>\n",
       "      <td>320.0</td>\n",
       "      <td>240.0</td>\n",
       "      <td>320x240</td>\n",
       "      <td>daisy</td>\n",
       "      <td>/users/danielcorcoran/desktop/flowers/all_flow...</td>\n",
       "      <td>[67.82799999999999, 24.820999999999998, 20.918...</td>\n",
       "      <td>67.828</td>\n",
       "      <td>...</td>\n",
       "      <td>42.014</td>\n",
       "      <td>20.937</td>\n",
       "      <td>30.693</td>\n",
       "      <td>62.717</td>\n",
       "      <td>51.857</td>\n",
       "      <td>47.047</td>\n",
       "      <td>30.899</td>\n",
       "      <td>45.376</td>\n",
       "      <td>55.236</td>\n",
       "      <td>13.098</td>\n",
       "    </tr>\n",
       "    <tr>\n",
       "      <th>1</th>\n",
       "      <td>1</td>\n",
       "      <td>tulip_4612075317_91eefff68c_n.jpg</td>\n",
       "      <td>/users/danielcorcoran/desktop/flowers/all_flow...</td>\n",
       "      <td>320.0</td>\n",
       "      <td>240.0</td>\n",
       "      <td>320x240</td>\n",
       "      <td>tulip</td>\n",
       "      <td>/users/danielcorcoran/desktop/flowers/all_flow...</td>\n",
       "      <td>[121.82300000000001, 132.782, 139.891, 147.927...</td>\n",
       "      <td>121.823</td>\n",
       "      <td>...</td>\n",
       "      <td>80.267</td>\n",
       "      <td>75.093</td>\n",
       "      <td>77.839</td>\n",
       "      <td>94.357</td>\n",
       "      <td>42.965</td>\n",
       "      <td>61.316</td>\n",
       "      <td>71.882</td>\n",
       "      <td>74.250</td>\n",
       "      <td>92.211</td>\n",
       "      <td>74.657</td>\n",
       "    </tr>\n",
       "    <tr>\n",
       "      <th>2</th>\n",
       "      <td>2</td>\n",
       "      <td>daisy_2578695910_5ab8ee17c1_n.jpg</td>\n",
       "      <td>/users/danielcorcoran/desktop/flowers/all_flow...</td>\n",
       "      <td>320.0</td>\n",
       "      <td>240.0</td>\n",
       "      <td>320x240</td>\n",
       "      <td>daisy</td>\n",
       "      <td>/users/danielcorcoran/desktop/flowers/all_flow...</td>\n",
       "      <td>[135.16099999999997, 129.64499999999998, 127.1...</td>\n",
       "      <td>135.161</td>\n",
       "      <td>...</td>\n",
       "      <td>123.006</td>\n",
       "      <td>124.006</td>\n",
       "      <td>121.718</td>\n",
       "      <td>122.718</td>\n",
       "      <td>122.718</td>\n",
       "      <td>123.718</td>\n",
       "      <td>123.718</td>\n",
       "      <td>124.718</td>\n",
       "      <td>124.718</td>\n",
       "      <td>125.718</td>\n",
       "    </tr>\n",
       "  </tbody>\n",
       "</table>\n",
       "<p>3 rows × 76809 columns</p>\n",
       "</div>"
      ],
      "text/plain": [
       "   row_index                          file_name  \\\n",
       "0          0   daisy_144099102_bf63a41e4f_n.jpg   \n",
       "1          1  tulip_4612075317_91eefff68c_n.jpg   \n",
       "2          2  daisy_2578695910_5ab8ee17c1_n.jpg   \n",
       "\n",
       "                                           file_path  width  height     size  \\\n",
       "0  /users/danielcorcoran/desktop/flowers/all_flow...  320.0   240.0  320x240   \n",
       "1  /users/danielcorcoran/desktop/flowers/all_flow...  320.0   240.0  320x240   \n",
       "2  /users/danielcorcoran/desktop/flowers/all_flow...  320.0   240.0  320x240   \n",
       "\n",
       "  flower_type                                          full_path  \\\n",
       "0       daisy  /users/danielcorcoran/desktop/flowers/all_flow...   \n",
       "1       tulip  /users/danielcorcoran/desktop/flowers/all_flow...   \n",
       "2       daisy  /users/danielcorcoran/desktop/flowers/all_flow...   \n",
       "\n",
       "                                   image_data_mapped        0   ...     \\\n",
       "0  [67.82799999999999, 24.820999999999998, 20.918...   67.828   ...      \n",
       "1  [121.82300000000001, 132.782, 139.891, 147.927...  121.823   ...      \n",
       "2  [135.16099999999997, 129.64499999999998, 127.1...  135.161   ...      \n",
       "\n",
       "     76790    76791    76792    76793    76794    76795    76796    76797  \\\n",
       "0   42.014   20.937   30.693   62.717   51.857   47.047   30.899   45.376   \n",
       "1   80.267   75.093   77.839   94.357   42.965   61.316   71.882   74.250   \n",
       "2  123.006  124.006  121.718  122.718  122.718  123.718  123.718  124.718   \n",
       "\n",
       "     76798    76799  \n",
       "0   55.236   13.098  \n",
       "1   92.211   74.657  \n",
       "2  124.718  125.718  \n",
       "\n",
       "[3 rows x 76809 columns]"
      ]
     },
     "execution_count": 6,
     "metadata": {},
     "output_type": "execute_result"
    }
   ],
   "source": [
    "data.head(3)"
   ]
  },
  {
   "cell_type": "code",
   "execution_count": 7,
   "metadata": {},
   "outputs": [],
   "source": [
    "X = data.drop(['row_index',\n",
    " 'file_name',\n",
    " 'file_path',\n",
    " 'width',\n",
    " 'height',\n",
    " 'size',\n",
    " 'flower_type',\n",
    " 'full_path',\n",
    " 'image_data_mapped'], axis = 1)\n",
    "\n",
    "y = data[\"flower_type\"]"
   ]
  },
  {
   "cell_type": "code",
   "execution_count": 8,
   "metadata": {},
   "outputs": [
    {
     "data": {
      "text/plain": [
       "(604, 76800)"
      ]
     },
     "execution_count": 8,
     "metadata": {},
     "output_type": "execute_result"
    }
   ],
   "source": [
    "X.shape"
   ]
  },
  {
   "cell_type": "code",
   "execution_count": 9,
   "metadata": {},
   "outputs": [
    {
     "data": {
      "text/plain": [
       "(604,)"
      ]
     },
     "execution_count": 9,
     "metadata": {},
     "output_type": "execute_result"
    }
   ],
   "source": [
    "y.shape"
   ]
  },
  {
   "cell_type": "code",
   "execution_count": 10,
   "metadata": {},
   "outputs": [
    {
     "data": {
      "text/plain": [
       "array(['daisy', 'tulip', 'rose', 'sunflower', 'dandelion'], dtype=object)"
      ]
     },
     "execution_count": 10,
     "metadata": {},
     "output_type": "execute_result"
    }
   ],
   "source": [
    "y.unique()"
   ]
  },
  {
   "cell_type": "code",
   "execution_count": 11,
   "metadata": {},
   "outputs": [],
   "source": [
    "mapping = {\n",
    "    \"daisy\":0,\n",
    "    \"tulip\":1,\n",
    "    \"rose\":2,\n",
    "    \"sunflower\":3,\n",
    "    \"dandelion\":4\n",
    "}"
   ]
  },
  {
   "cell_type": "code",
   "execution_count": 12,
   "metadata": {},
   "outputs": [],
   "source": [
    "y_numeric = y.replace(mapping)"
   ]
  },
  {
   "cell_type": "markdown",
   "metadata": {},
   "source": [
    "## Modelling (Naive Bayes)"
   ]
  },
  {
   "cell_type": "markdown",
   "metadata": {},
   "source": [
    "### Round 1, using Gaussian Naive Bayes, and grey scale colours"
   ]
  },
  {
   "cell_type": "code",
   "execution_count": 22,
   "metadata": {},
   "outputs": [],
   "source": [
    "from sklearn.naive_bayes import GaussianNB\n",
    "from sklearn.cross_validation import train_test_split"
   ]
  },
  {
   "cell_type": "code",
   "execution_count": 23,
   "metadata": {},
   "outputs": [],
   "source": [
    "Xtrain, Xtest, ytrain, ytest = train_test_split(X, y_numeric, test_size = .20, random_state = 42)"
   ]
  },
  {
   "cell_type": "code",
   "execution_count": 24,
   "metadata": {},
   "outputs": [],
   "source": [
    "model = GaussianNB()"
   ]
  },
  {
   "cell_type": "code",
   "execution_count": 25,
   "metadata": {},
   "outputs": [
    {
     "data": {
      "text/plain": [
       "GaussianNB(priors=None)"
      ]
     },
     "execution_count": 25,
     "metadata": {},
     "output_type": "execute_result"
    }
   ],
   "source": [
    "model.fit(Xtrain, ytrain)"
   ]
  },
  {
   "cell_type": "code",
   "execution_count": 26,
   "metadata": {},
   "outputs": [],
   "source": [
    "y_pred = model.predict(Xtest)"
   ]
  },
  {
   "cell_type": "code",
   "execution_count": 27,
   "metadata": {},
   "outputs": [
    {
     "data": {
      "text/plain": [
       "0.4214876033057851"
      ]
     },
     "execution_count": 27,
     "metadata": {},
     "output_type": "execute_result"
    }
   ],
   "source": [
    "accuracy_score(y_pred, ytest)"
   ]
  },
  {
   "cell_type": "code",
   "execution_count": 32,
   "metadata": {},
   "outputs": [
    {
     "data": {
      "text/plain": [
       "array([3, 4, 4, 1, 3, 1, 3, 1, 1, 4, 4, 3, 3, 3, 3, 2, 4, 4, 1, 2, 0, 2,\n",
       "       0, 3, 4, 1, 2, 4, 3, 4, 1, 4, 4, 3, 1, 4, 3, 4, 3, 4, 0, 2, 3, 3,\n",
       "       3, 1, 4, 2, 0, 0])"
      ]
     },
     "execution_count": 32,
     "metadata": {},
     "output_type": "execute_result"
    }
   ],
   "source": [
    "y_pred[:50]"
   ]
  },
  {
   "cell_type": "markdown",
   "metadata": {},
   "source": [
    "### Round 2, using Gausian Naive Bayes, and  binaries derived from grey scale colours"
   ]
  },
  {
   "cell_type": "code",
   "execution_count": 28,
   "metadata": {},
   "outputs": [],
   "source": [
    "Xb = X"
   ]
  },
  {
   "cell_type": "code",
   "execution_count": 29,
   "metadata": {},
   "outputs": [
    {
     "data": {
      "text/html": [
       "<div>\n",
       "<style scoped>\n",
       "    .dataframe tbody tr th:only-of-type {\n",
       "        vertical-align: middle;\n",
       "    }\n",
       "\n",
       "    .dataframe tbody tr th {\n",
       "        vertical-align: top;\n",
       "    }\n",
       "\n",
       "    .dataframe thead th {\n",
       "        text-align: right;\n",
       "    }\n",
       "</style>\n",
       "<table border=\"1\" class=\"dataframe\">\n",
       "  <thead>\n",
       "    <tr style=\"text-align: right;\">\n",
       "      <th></th>\n",
       "      <th>0</th>\n",
       "      <th>1</th>\n",
       "      <th>2</th>\n",
       "      <th>3</th>\n",
       "      <th>4</th>\n",
       "      <th>5</th>\n",
       "      <th>6</th>\n",
       "      <th>7</th>\n",
       "      <th>8</th>\n",
       "      <th>9</th>\n",
       "      <th>...</th>\n",
       "      <th>76790</th>\n",
       "      <th>76791</th>\n",
       "      <th>76792</th>\n",
       "      <th>76793</th>\n",
       "      <th>76794</th>\n",
       "      <th>76795</th>\n",
       "      <th>76796</th>\n",
       "      <th>76797</th>\n",
       "      <th>76798</th>\n",
       "      <th>76799</th>\n",
       "    </tr>\n",
       "  </thead>\n",
       "  <tbody>\n",
       "    <tr>\n",
       "      <th>0</th>\n",
       "      <td>67.828</td>\n",
       "      <td>24.821</td>\n",
       "      <td>20.918</td>\n",
       "      <td>7.288</td>\n",
       "      <td>21.882</td>\n",
       "      <td>5.288</td>\n",
       "      <td>36.226</td>\n",
       "      <td>18.146</td>\n",
       "      <td>12.164</td>\n",
       "      <td>64.061</td>\n",
       "      <td>...</td>\n",
       "      <td>42.014</td>\n",
       "      <td>20.937</td>\n",
       "      <td>30.693</td>\n",
       "      <td>62.717</td>\n",
       "      <td>51.857</td>\n",
       "      <td>47.047</td>\n",
       "      <td>30.899</td>\n",
       "      <td>45.376</td>\n",
       "      <td>55.236</td>\n",
       "      <td>13.098</td>\n",
       "    </tr>\n",
       "    <tr>\n",
       "      <th>1</th>\n",
       "      <td>121.823</td>\n",
       "      <td>132.782</td>\n",
       "      <td>139.891</td>\n",
       "      <td>147.927</td>\n",
       "      <td>148.160</td>\n",
       "      <td>142.145</td>\n",
       "      <td>150.974</td>\n",
       "      <td>166.122</td>\n",
       "      <td>171.847</td>\n",
       "      <td>172.097</td>\n",
       "      <td>...</td>\n",
       "      <td>80.267</td>\n",
       "      <td>75.093</td>\n",
       "      <td>77.839</td>\n",
       "      <td>94.357</td>\n",
       "      <td>42.965</td>\n",
       "      <td>61.316</td>\n",
       "      <td>71.882</td>\n",
       "      <td>74.250</td>\n",
       "      <td>92.211</td>\n",
       "      <td>74.657</td>\n",
       "    </tr>\n",
       "    <tr>\n",
       "      <th>2</th>\n",
       "      <td>135.161</td>\n",
       "      <td>129.645</td>\n",
       "      <td>127.129</td>\n",
       "      <td>132.445</td>\n",
       "      <td>139.832</td>\n",
       "      <td>141.843</td>\n",
       "      <td>135.125</td>\n",
       "      <td>128.347</td>\n",
       "      <td>123.297</td>\n",
       "      <td>126.936</td>\n",
       "      <td>...</td>\n",
       "      <td>123.006</td>\n",
       "      <td>124.006</td>\n",
       "      <td>121.718</td>\n",
       "      <td>122.718</td>\n",
       "      <td>122.718</td>\n",
       "      <td>123.718</td>\n",
       "      <td>123.718</td>\n",
       "      <td>124.718</td>\n",
       "      <td>124.718</td>\n",
       "      <td>125.718</td>\n",
       "    </tr>\n",
       "    <tr>\n",
       "      <th>3</th>\n",
       "      <td>168.986</td>\n",
       "      <td>168.102</td>\n",
       "      <td>166.842</td>\n",
       "      <td>167.907</td>\n",
       "      <td>164.995</td>\n",
       "      <td>156.089</td>\n",
       "      <td>144.209</td>\n",
       "      <td>134.121</td>\n",
       "      <td>131.915</td>\n",
       "      <td>129.872</td>\n",
       "      <td>...</td>\n",
       "      <td>187.890</td>\n",
       "      <td>186.249</td>\n",
       "      <td>192.726</td>\n",
       "      <td>187.840</td>\n",
       "      <td>186.709</td>\n",
       "      <td>187.866</td>\n",
       "      <td>179.838</td>\n",
       "      <td>166.169</td>\n",
       "      <td>159.717</td>\n",
       "      <td>162.233</td>\n",
       "    </tr>\n",
       "    <tr>\n",
       "      <th>4</th>\n",
       "      <td>27.942</td>\n",
       "      <td>29.110</td>\n",
       "      <td>28.061</td>\n",
       "      <td>22.115</td>\n",
       "      <td>11.838</td>\n",
       "      <td>6.191</td>\n",
       "      <td>12.208</td>\n",
       "      <td>22.094</td>\n",
       "      <td>19.143</td>\n",
       "      <td>17.143</td>\n",
       "      <td>...</td>\n",
       "      <td>31.813</td>\n",
       "      <td>35.058</td>\n",
       "      <td>35.792</td>\n",
       "      <td>36.710</td>\n",
       "      <td>38.041</td>\n",
       "      <td>37.910</td>\n",
       "      <td>35.149</td>\n",
       "      <td>29.872</td>\n",
       "      <td>23.231</td>\n",
       "      <td>18.573</td>\n",
       "    </tr>\n",
       "  </tbody>\n",
       "</table>\n",
       "<p>5 rows × 76800 columns</p>\n",
       "</div>"
      ],
      "text/plain": [
       "         0        1        2        3        4        5        6        7  \\\n",
       "0   67.828   24.821   20.918    7.288   21.882    5.288   36.226   18.146   \n",
       "1  121.823  132.782  139.891  147.927  148.160  142.145  150.974  166.122   \n",
       "2  135.161  129.645  127.129  132.445  139.832  141.843  135.125  128.347   \n",
       "3  168.986  168.102  166.842  167.907  164.995  156.089  144.209  134.121   \n",
       "4   27.942   29.110   28.061   22.115   11.838    6.191   12.208   22.094   \n",
       "\n",
       "         8        9   ...       76790    76791    76792    76793    76794  \\\n",
       "0   12.164   64.061   ...      42.014   20.937   30.693   62.717   51.857   \n",
       "1  171.847  172.097   ...      80.267   75.093   77.839   94.357   42.965   \n",
       "2  123.297  126.936   ...     123.006  124.006  121.718  122.718  122.718   \n",
       "3  131.915  129.872   ...     187.890  186.249  192.726  187.840  186.709   \n",
       "4   19.143   17.143   ...      31.813   35.058   35.792   36.710   38.041   \n",
       "\n",
       "     76795    76796    76797    76798    76799  \n",
       "0   47.047   30.899   45.376   55.236   13.098  \n",
       "1   61.316   71.882   74.250   92.211   74.657  \n",
       "2  123.718  123.718  124.718  124.718  125.718  \n",
       "3  187.866  179.838  166.169  159.717  162.233  \n",
       "4   37.910   35.149   29.872   23.231   18.573  \n",
       "\n",
       "[5 rows x 76800 columns]"
      ]
     },
     "execution_count": 29,
     "metadata": {},
     "output_type": "execute_result"
    }
   ],
   "source": [
    "Xb.head()"
   ]
  },
  {
   "cell_type": "markdown",
   "metadata": {},
   "source": [
    "### Helper function to convert to binary "
   ]
  },
  {
   "cell_type": "code",
   "execution_count": 30,
   "metadata": {},
   "outputs": [],
   "source": [
    "def convert_greyscale_to_binary(number):\n",
    "\n",
    "    if number >= 127.5:\n",
    "                new_number = 1\n",
    "    else:\n",
    "                new_number = 0\n",
    "    \n",
    "    return new_number"
   ]
  },
  {
   "cell_type": "code",
   "execution_count": 35,
   "metadata": {},
   "outputs": [],
   "source": [
    "Xb_final = Xb.applymap(convert_greyscale_to_binary)"
   ]
  },
  {
   "cell_type": "code",
   "execution_count": 36,
   "metadata": {},
   "outputs": [
    {
     "data": {
      "text/html": [
       "<div>\n",
       "<style scoped>\n",
       "    .dataframe tbody tr th:only-of-type {\n",
       "        vertical-align: middle;\n",
       "    }\n",
       "\n",
       "    .dataframe tbody tr th {\n",
       "        vertical-align: top;\n",
       "    }\n",
       "\n",
       "    .dataframe thead th {\n",
       "        text-align: right;\n",
       "    }\n",
       "</style>\n",
       "<table border=\"1\" class=\"dataframe\">\n",
       "  <thead>\n",
       "    <tr style=\"text-align: right;\">\n",
       "      <th></th>\n",
       "      <th>0</th>\n",
       "      <th>1</th>\n",
       "      <th>2</th>\n",
       "      <th>3</th>\n",
       "      <th>4</th>\n",
       "      <th>5</th>\n",
       "      <th>6</th>\n",
       "      <th>7</th>\n",
       "      <th>8</th>\n",
       "      <th>9</th>\n",
       "      <th>...</th>\n",
       "      <th>76790</th>\n",
       "      <th>76791</th>\n",
       "      <th>76792</th>\n",
       "      <th>76793</th>\n",
       "      <th>76794</th>\n",
       "      <th>76795</th>\n",
       "      <th>76796</th>\n",
       "      <th>76797</th>\n",
       "      <th>76798</th>\n",
       "      <th>76799</th>\n",
       "    </tr>\n",
       "  </thead>\n",
       "  <tbody>\n",
       "    <tr>\n",
       "      <th>0</th>\n",
       "      <td>0</td>\n",
       "      <td>0</td>\n",
       "      <td>0</td>\n",
       "      <td>0</td>\n",
       "      <td>0</td>\n",
       "      <td>0</td>\n",
       "      <td>0</td>\n",
       "      <td>0</td>\n",
       "      <td>0</td>\n",
       "      <td>0</td>\n",
       "      <td>...</td>\n",
       "      <td>0</td>\n",
       "      <td>0</td>\n",
       "      <td>0</td>\n",
       "      <td>0</td>\n",
       "      <td>0</td>\n",
       "      <td>0</td>\n",
       "      <td>0</td>\n",
       "      <td>0</td>\n",
       "      <td>0</td>\n",
       "      <td>0</td>\n",
       "    </tr>\n",
       "    <tr>\n",
       "      <th>1</th>\n",
       "      <td>0</td>\n",
       "      <td>1</td>\n",
       "      <td>1</td>\n",
       "      <td>1</td>\n",
       "      <td>1</td>\n",
       "      <td>1</td>\n",
       "      <td>1</td>\n",
       "      <td>1</td>\n",
       "      <td>1</td>\n",
       "      <td>1</td>\n",
       "      <td>...</td>\n",
       "      <td>0</td>\n",
       "      <td>0</td>\n",
       "      <td>0</td>\n",
       "      <td>0</td>\n",
       "      <td>0</td>\n",
       "      <td>0</td>\n",
       "      <td>0</td>\n",
       "      <td>0</td>\n",
       "      <td>0</td>\n",
       "      <td>0</td>\n",
       "    </tr>\n",
       "    <tr>\n",
       "      <th>2</th>\n",
       "      <td>1</td>\n",
       "      <td>1</td>\n",
       "      <td>0</td>\n",
       "      <td>1</td>\n",
       "      <td>1</td>\n",
       "      <td>1</td>\n",
       "      <td>1</td>\n",
       "      <td>1</td>\n",
       "      <td>0</td>\n",
       "      <td>0</td>\n",
       "      <td>...</td>\n",
       "      <td>0</td>\n",
       "      <td>0</td>\n",
       "      <td>0</td>\n",
       "      <td>0</td>\n",
       "      <td>0</td>\n",
       "      <td>0</td>\n",
       "      <td>0</td>\n",
       "      <td>0</td>\n",
       "      <td>0</td>\n",
       "      <td>0</td>\n",
       "    </tr>\n",
       "    <tr>\n",
       "      <th>3</th>\n",
       "      <td>1</td>\n",
       "      <td>1</td>\n",
       "      <td>1</td>\n",
       "      <td>1</td>\n",
       "      <td>1</td>\n",
       "      <td>1</td>\n",
       "      <td>1</td>\n",
       "      <td>1</td>\n",
       "      <td>1</td>\n",
       "      <td>1</td>\n",
       "      <td>...</td>\n",
       "      <td>1</td>\n",
       "      <td>1</td>\n",
       "      <td>1</td>\n",
       "      <td>1</td>\n",
       "      <td>1</td>\n",
       "      <td>1</td>\n",
       "      <td>1</td>\n",
       "      <td>1</td>\n",
       "      <td>1</td>\n",
       "      <td>1</td>\n",
       "    </tr>\n",
       "    <tr>\n",
       "      <th>4</th>\n",
       "      <td>0</td>\n",
       "      <td>0</td>\n",
       "      <td>0</td>\n",
       "      <td>0</td>\n",
       "      <td>0</td>\n",
       "      <td>0</td>\n",
       "      <td>0</td>\n",
       "      <td>0</td>\n",
       "      <td>0</td>\n",
       "      <td>0</td>\n",
       "      <td>...</td>\n",
       "      <td>0</td>\n",
       "      <td>0</td>\n",
       "      <td>0</td>\n",
       "      <td>0</td>\n",
       "      <td>0</td>\n",
       "      <td>0</td>\n",
       "      <td>0</td>\n",
       "      <td>0</td>\n",
       "      <td>0</td>\n",
       "      <td>0</td>\n",
       "    </tr>\n",
       "  </tbody>\n",
       "</table>\n",
       "<p>5 rows × 76800 columns</p>\n",
       "</div>"
      ],
      "text/plain": [
       "   0  1  2  3  4  5  6  7  8  9  ...    76790  76791  76792  76793  76794  \\\n",
       "0  0  0  0  0  0  0  0  0  0  0  ...        0      0      0      0      0   \n",
       "1  0  1  1  1  1  1  1  1  1  1  ...        0      0      0      0      0   \n",
       "2  1  1  0  1  1  1  1  1  0  0  ...        0      0      0      0      0   \n",
       "3  1  1  1  1  1  1  1  1  1  1  ...        1      1      1      1      1   \n",
       "4  0  0  0  0  0  0  0  0  0  0  ...        0      0      0      0      0   \n",
       "\n",
       "   76795  76796  76797  76798  76799  \n",
       "0      0      0      0      0      0  \n",
       "1      0      0      0      0      0  \n",
       "2      0      0      0      0      0  \n",
       "3      1      1      1      1      1  \n",
       "4      0      0      0      0      0  \n",
       "\n",
       "[5 rows x 76800 columns]"
      ]
     },
     "execution_count": 36,
     "metadata": {},
     "output_type": "execute_result"
    }
   ],
   "source": [
    "Xb_final.head()"
   ]
  },
  {
   "cell_type": "code",
   "execution_count": 43,
   "metadata": {},
   "outputs": [],
   "source": [
    "Xtrain, Xtest, ytrain, ytest = train_test_split(Xb_final, y_numeric, test_size = .30, random_state = 42)"
   ]
  },
  {
   "cell_type": "code",
   "execution_count": 44,
   "metadata": {},
   "outputs": [],
   "source": [
    "model = GaussianNB()"
   ]
  },
  {
   "cell_type": "code",
   "execution_count": 45,
   "metadata": {},
   "outputs": [
    {
     "data": {
      "text/plain": [
       "GaussianNB(priors=None)"
      ]
     },
     "execution_count": 45,
     "metadata": {},
     "output_type": "execute_result"
    }
   ],
   "source": [
    "model.fit(Xtrain, ytrain)"
   ]
  },
  {
   "cell_type": "code",
   "execution_count": 46,
   "metadata": {},
   "outputs": [],
   "source": [
    "y_pred = model.predict(Xtest)"
   ]
  },
  {
   "cell_type": "code",
   "execution_count": 47,
   "metadata": {},
   "outputs": [
    {
     "data": {
      "text/plain": [
       "0.3791208791208791"
      ]
     },
     "execution_count": 47,
     "metadata": {},
     "output_type": "execute_result"
    }
   ],
   "source": [
    "accuracy_score(y_pred, ytest)"
   ]
  },
  {
   "cell_type": "code",
   "execution_count": null,
   "metadata": {},
   "outputs": [],
   "source": []
  },
  {
   "cell_type": "code",
   "execution_count": null,
   "metadata": {},
   "outputs": [],
   "source": []
  },
  {
   "cell_type": "markdown",
   "metadata": {},
   "source": [
    "## Modelling (Principal Component Analysis + Support Vector Machine)"
   ]
  },
  {
   "cell_type": "markdown",
   "metadata": {},
   "source": [
    "### Import sklearn"
   ]
  },
  {
   "cell_type": "code",
   "execution_count": null,
   "metadata": {},
   "outputs": [],
   "source": [
    "from sklearn.svm import SVC\n",
    "from sklearn.decomposition import PCA\n",
    "from sklearn.pipeline import make_pipeline"
   ]
  },
  {
   "cell_type": "markdown",
   "metadata": {},
   "source": [
    "### Instantiate the model"
   ]
  },
  {
   "cell_type": "code",
   "execution_count": null,
   "metadata": {},
   "outputs": [],
   "source": [
    "pca = PCA(svd_solver='randomized', \n",
    "          n_components = 4,\n",
    "          whiten = True, \n",
    "          random_state = 42)\n",
    "\n",
    "svc = SVC(kernel = \"rbf\", \n",
    "          class_weight = \"balanced\")\n",
    "\n",
    "model = make_pipeline(pca, \n",
    "                      svc)"
   ]
  },
  {
   "cell_type": "markdown",
   "metadata": {},
   "source": [
    "### Split target vector and feature matrix into train and test subsets"
   ]
  },
  {
   "cell_type": "code",
   "execution_count": null,
   "metadata": {},
   "outputs": [],
   "source": [
    "Xtrain, Xtest, ytrain, ytest  = train_test_split(X, #flowers feature matrix\n",
    "                                                 y_numeric, #flowers target matrix\n",
    "                                                 random_state = 42,\n",
    "                                                 test_size = 0.5)"
   ]
  },
  {
   "cell_type": "markdown",
   "metadata": {},
   "source": [
    "### Fit the model"
   ]
  },
  {
   "cell_type": "code",
   "execution_count": null,
   "metadata": {},
   "outputs": [],
   "source": [
    "param_grid = {\"svc__C\": [1, 5, 10, 50],\n",
    "             \"svc__gamma\":[0.0001, 0.0005, 0.001, 0.005, 0.0075, 0.01]}\n",
    "\n",
    "grid = GridSearchCV(model, param_grid)\n",
    "%time grid.fit(Xtrain, ytrain)\n",
    "\n",
    "print(grid.best_params_)"
   ]
  },
  {
   "cell_type": "markdown",
   "metadata": {},
   "source": [
    "### Predict using model built with test data"
   ]
  },
  {
   "cell_type": "code",
   "execution_count": null,
   "metadata": {},
   "outputs": [],
   "source": [
    "model = grid.best_estimator_\n",
    "yfit = model.predict(Xtest)"
   ]
  },
  {
   "cell_type": "markdown",
   "metadata": {},
   "source": [
    "### Check Accuracy"
   ]
  },
  {
   "cell_type": "code",
   "execution_count": null,
   "metadata": {},
   "outputs": [],
   "source": [
    "accuracy_score(yfit, ytest)"
   ]
  },
  {
   "cell_type": "markdown",
   "metadata": {},
   "source": [
    "### Generate Classification report"
   ]
  },
  {
   "cell_type": "code",
   "execution_count": null,
   "metadata": {},
   "outputs": [],
   "source": [
    "report = classification_report(ytest, \n",
    "                            yfit, \n",
    "                            target_names = mapping.keys())\n",
    "\n",
    "print(report)"
   ]
  },
  {
   "cell_type": "code",
   "execution_count": null,
   "metadata": {},
   "outputs": [],
   "source": [
    "mat = confusion_matrix(ytest, yfit)\n",
    "\n",
    "seaborn.heatmap(mat.T, \n",
    "                square = True, \n",
    "                annot = True, \n",
    "                fmt = \"d\", \n",
    "                cmap = \"BrBG\",\n",
    "               xticklabels = mapping.keys(),\n",
    "               yticklabels = mapping.keys())\n",
    "\n",
    "plt.xlabel(\"True label\")\n",
    "plt.ylabel(\"Predicted label\")"
   ]
  }
 ],
 "metadata": {
  "kernelspec": {
   "display_name": "Python 3",
   "language": "python",
   "name": "python3"
  },
  "language_info": {
   "codemirror_mode": {
    "name": "ipython",
    "version": 3
   },
   "file_extension": ".py",
   "mimetype": "text/x-python",
   "name": "python",
   "nbconvert_exporter": "python",
   "pygments_lexer": "ipython3",
   "version": "3.6.5"
  },
  "toc": {
   "base_numbering": 1,
   "nav_menu": {},
   "number_sections": true,
   "sideBar": true,
   "skip_h1_title": false,
   "title_cell": "Table of Contents",
   "title_sidebar": "Contents",
   "toc_cell": false,
   "toc_position": {
    "height": "calc(100% - 180px)",
    "left": "10px",
    "top": "150px",
    "width": "351px"
   },
   "toc_section_display": true,
   "toc_window_display": true
  },
  "varInspector": {
   "cols": {
    "lenName": 16,
    "lenType": 16,
    "lenVar": 40
   },
   "kernels_config": {
    "python": {
     "delete_cmd_postfix": "",
     "delete_cmd_prefix": "del ",
     "library": "var_list.py",
     "varRefreshCmd": "print(var_dic_list())"
    },
    "r": {
     "delete_cmd_postfix": ") ",
     "delete_cmd_prefix": "rm(",
     "library": "var_list.r",
     "varRefreshCmd": "cat(var_dic_list()) "
    }
   },
   "types_to_exclude": [
    "module",
    "function",
    "builtin_function_or_method",
    "instance",
    "_Feature"
   ],
   "window_display": false
  }
 },
 "nbformat": 4,
 "nbformat_minor": 2
}
